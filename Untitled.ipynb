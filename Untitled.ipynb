{
 "cells": [
  {
   "cell_type": "code",
   "execution_count": 5,
   "id": "36f636c2-827a-4fac-87b0-0067d7d85a79",
   "metadata": {},
   "outputs": [
    {
     "name": "stdout",
     "output_type": "stream",
     "text": [
      "yagnik's website\n",
      "yagnik's website\n"
     ]
    }
   ],
   "source": [
    "#Question 1\n",
    "#we can store ' as a string in variable a by writing --> /'\n",
    "#here is the example 1\n",
    "name1 = 'yagnik\\'s website'\n",
    "print(name1)\n",
    "\n",
    "#example 2\n",
    "name2 = \"yagnik's website\"\n",
    "print(name2)"
   ]
  },
  {
   "cell_type": "code",
   "execution_count": 6,
   "id": "24f11a7d-9a52-482b-a8a5-dfe060ebd093",
   "metadata": {},
   "outputs": [],
   "source": [
    "#Question 2\n",
    "#x = 'a'\n",
    "#this is string type variable because in the python there is no any char type as other programming languages have. every value written in ' ' \n",
    "#considered as string type\n"
   ]
  },
  {
   "cell_type": "code",
   "execution_count": 16,
   "id": "e0e572bf-7596-40fa-80f6-94b2d899f358",
   "metadata": {},
   "outputs": [
    {
     "data": {
      "text/plain": [
       "1"
      ]
     },
     "execution_count": 16,
     "metadata": {},
     "output_type": "execute_result"
    }
   ],
   "source": [
    "#Question 3\n",
    "course = 'Welcome to Python foudation course'\n",
    "course.find('e')\n"
   ]
  },
  {
   "cell_type": "code",
   "execution_count": 17,
   "id": "53afdb76-e38c-46ad-8dd4-98bac9f2b715",
   "metadata": {},
   "outputs": [
    {
     "data": {
      "text/plain": [
       "6"
      ]
     },
     "execution_count": 17,
     "metadata": {},
     "output_type": "execute_result"
    }
   ],
   "source": [
    "course = 'Welcome to Python foudation course'\n",
    "course.count('o')"
   ]
  },
  {
   "cell_type": "code",
   "execution_count": 18,
   "id": "ff311117-96d7-447c-98da-a706ac3ef523",
   "metadata": {},
   "outputs": [
    {
     "data": {
      "text/plain": [
       "34"
      ]
     },
     "execution_count": 18,
     "metadata": {},
     "output_type": "execute_result"
    }
   ],
   "source": [
    "len(course)"
   ]
  },
  {
   "cell_type": "code",
   "execution_count": 19,
   "id": "8df4e1c8-aa73-4a7e-84df-fdb7d2f0f2e4",
   "metadata": {},
   "outputs": [
    {
     "name": "stdout",
     "output_type": "stream",
     "text": [
      "hello world\n"
     ]
    }
   ],
   "source": [
    "#concatenation\n",
    "name1 = 'hello'\n",
    "name2 = 'world'\n",
    "print(name1 + \" \" + name2)"
   ]
  },
  {
   "cell_type": "code",
   "execution_count": 20,
   "id": "1936170b-4bbd-434d-b39a-0cead40faa47",
   "metadata": {},
   "outputs": [
    {
     "data": {
      "text/plain": [
       "'PANAJ1@12256'"
      ]
     },
     "execution_count": 20,
     "metadata": {},
     "output_type": "execute_result"
    }
   ],
   "source": [
    "#Question 4\n",
    "word = 'PanaJ1@12256'\n",
    "word.upper()"
   ]
  },
  {
   "cell_type": "code",
   "execution_count": 21,
   "id": "7c09dc9d-5ab7-478c-a652-d7b3b2953dd6",
   "metadata": {},
   "outputs": [
    {
     "data": {
      "text/plain": [
       "'panaj1@12256'"
      ]
     },
     "execution_count": 21,
     "metadata": {},
     "output_type": "execute_result"
    }
   ],
   "source": [
    "word.lower()"
   ]
  },
  {
   "cell_type": "code",
   "execution_count": 30,
   "id": "5e020be3-ddc5-4dd2-84b9-394bb42545bf",
   "metadata": {},
   "outputs": [
    {
     "name": "stdout",
     "output_type": "stream",
     "text": [
      "6\n"
     ]
    }
   ],
   "source": [
    "#find numerical\n",
    "word = 'PanaJ1@12256'\n",
    "counter = 0\n",
    "for char in word:\n",
    "    if char.isdigit():\n",
    "        counter += 1\n",
    "print(counter)\n"
   ]
  },
  {
   "cell_type": "code",
   "execution_count": 32,
   "id": "2f2084e1-33f8-4708-bd4f-5a6b61fd47a0",
   "metadata": {},
   "outputs": [
    {
     "name": "stdout",
     "output_type": "stream",
     "text": [
      "<class 'str'>\n"
     ]
    }
   ],
   "source": [
    "#Question 5\n",
    "a = 18\n",
    "\n",
    "new_string = str(a)\n",
    "print(type(new_string))\n"
   ]
  },
  {
   "cell_type": "code",
   "execution_count": null,
   "id": "ef86ea54-936f-4f05-acf5-c1807ca57163",
   "metadata": {},
   "outputs": [],
   "source": []
  }
 ],
 "metadata": {
  "kernelspec": {
   "display_name": "Python 3 (ipykernel)",
   "language": "python",
   "name": "python3"
  },
  "language_info": {
   "codemirror_mode": {
    "name": "ipython",
    "version": 3
   },
   "file_extension": ".py",
   "mimetype": "text/x-python",
   "name": "python",
   "nbconvert_exporter": "python",
   "pygments_lexer": "ipython3",
   "version": "3.10.8"
  }
 },
 "nbformat": 4,
 "nbformat_minor": 5
}
